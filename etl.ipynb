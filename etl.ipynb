{
 "cells": [
  {
   "cell_type": "markdown",
   "metadata": {
    "id": "Tg2xp6e_Lfsh"
   },
   "source": [
    "## Extraer datos mediante la API de inmobiliaria"
   ]
  },
  {
   "cell_type": "markdown",
   "metadata": {
    "id": "SR2LilttZhYb"
   },
   "source": [
    "pagina donde se hizo el webscraping: https://www.argenprop.com/"
   ]
  },
  {
   "cell_type": "markdown",
   "metadata": {
    "id": "MHOK5FHMZTaK"
   },
   "source": [
    "## Paises admitidos:\n",
    "#### Argentina, Chile, Uruguay, Brasil\n",
    "\n",
    "ojo: brasil solo tiene 1 propiedad"
   ]
  },
  {
   "cell_type": "markdown",
   "metadata": {
    "id": "x3uWPZnlN1hL"
   },
   "source": [
    "## 1. Creamos la conexión con la API para extraer los datos"
   ]
  },
  {
   "cell_type": "code",
   "execution_count": 1,
   "metadata": {
    "id": "9xLDLulUa9t_"
   },
   "outputs": [
    {
     "name": "stdout",
     "output_type": "stream",
     "text": [
      "CPU times: total: 406 ms\n",
      "Wall time: 1min 13s\n"
     ]
    }
   ],
   "source": [
    "%%time\n",
    "import requests\n",
    "import pandas as pd\n",
    "\n",
    "url = 'http://127.0.0.1:5000/argenprop'\n",
    "\n",
    "# Parámetros de la solicitud\n",
    "params = {'pais': 'argentina', 'limite': 300}\n",
    "response = requests.get(url, params=params)\n",
    "\n",
    "data = response.json()\n",
    "df = pd.DataFrame(data)"
   ]
  }
 ],
 "metadata": {
  "colab": {
   "provenance": []
  },
  "kernelspec": {
   "display_name": "venv",
   "language": "python",
   "name": "python3"
  },
  "language_info": {
   "codemirror_mode": {
    "name": "ipython",
    "version": 3
   },
   "file_extension": ".py",
   "mimetype": "text/x-python",
   "name": "python",
   "nbconvert_exporter": "python",
   "pygments_lexer": "ipython3",
   "version": "3.12.4"
  }
 },
 "nbformat": 4,
 "nbformat_minor": 0
}
