{
 "cells": [
  {
   "cell_type": "markdown",
   "metadata": {
    "id": "Tg2xp6e_Lfsh"
   },
   "source": [
    "## Extraer datos mediante la API de inmobiliaria"
   ]
  },
  {
   "cell_type": "markdown",
   "metadata": {
    "id": "SR2LilttZhYb"
   },
   "source": [
    "Pagina donde se hizo el webscraping: https://www.argenprop.com/ \n",
    "\n",
    "Paises admitidos: Argentina, Chile, Uruguay, Brasil(1propiedad)"
   ]
  },
  {
   "cell_type": "code",
   "execution_count": 2,
   "metadata": {},
   "outputs": [],
   "source": [
    "#Librerias\n",
    "import requests\n",
    "import numpy as np\n",
    "import pandas as pd\n",
    "from geopy.geocoders import Nominatim\n",
    "from datetime import datetime\n",
    "import pytz"
   ]
  },
  {
   "cell_type": "markdown",
   "metadata": {
    "id": "x3uWPZnlN1hL"
   },
   "source": [
    "## 1. Creamos la conexión con la API para extraer los datos"
   ]
  },
  {
   "cell_type": "code",
   "execution_count": null,
   "metadata": {
    "id": "9xLDLulUa9t_"
   },
   "outputs": [],
   "source": [
    "%%time\n",
    "\n",
    "url = 'http://reffindr-alb-1167121448.us-east-1.elb.amazonaws.com:4155/argenprop'\n",
    "\n",
    "# Parámetros de la solicitud\n",
    "params = {'pais': 'argentina', 'limite': 100}\n",
    "response = requests.get(url, params=params)\n",
    "print(response.status_code)"
   ]
  },
  {
   "cell_type": "code",
   "execution_count": 29,
   "metadata": {},
   "outputs": [
    {
     "ename": "JSONDecodeError",
     "evalue": "Expecting value: line 1 column 1 (char 0)",
     "output_type": "error",
     "traceback": [
      "\u001b[1;31m---------------------------------------------------------------------------\u001b[0m",
      "\u001b[1;31mJSONDecodeError\u001b[0m                           Traceback (most recent call last)",
      "File \u001b[1;32mc:\\Users\\FABRICIO\\Desktop\\wb-despliegue azure\\venv\\lib\\site-packages\\requests\\models.py:974\u001b[0m, in \u001b[0;36mResponse.json\u001b[1;34m(self, **kwargs)\u001b[0m\n\u001b[0;32m    973\u001b[0m \u001b[38;5;28;01mtry\u001b[39;00m:\n\u001b[1;32m--> 974\u001b[0m     \u001b[38;5;28;01mreturn\u001b[39;00m complexjson\u001b[38;5;241m.\u001b[39mloads(\u001b[38;5;28mself\u001b[39m\u001b[38;5;241m.\u001b[39mtext, \u001b[38;5;241m*\u001b[39m\u001b[38;5;241m*\u001b[39mkwargs)\n\u001b[0;32m    975\u001b[0m \u001b[38;5;28;01mexcept\u001b[39;00m JSONDecodeError \u001b[38;5;28;01mas\u001b[39;00m e:\n\u001b[0;32m    976\u001b[0m     \u001b[38;5;66;03m# Catch JSON-related errors and raise as requests.JSONDecodeError\u001b[39;00m\n\u001b[0;32m    977\u001b[0m     \u001b[38;5;66;03m# This aliases json.JSONDecodeError and simplejson.JSONDecodeError\u001b[39;00m\n",
      "File \u001b[1;32m~\\AppData\\Local\\Programs\\Python\\Python310\\lib\\json\\__init__.py:346\u001b[0m, in \u001b[0;36mloads\u001b[1;34m(s, cls, object_hook, parse_float, parse_int, parse_constant, object_pairs_hook, **kw)\u001b[0m\n\u001b[0;32m    343\u001b[0m \u001b[38;5;28;01mif\u001b[39;00m (\u001b[38;5;28mcls\u001b[39m \u001b[38;5;129;01mis\u001b[39;00m \u001b[38;5;28;01mNone\u001b[39;00m \u001b[38;5;129;01mand\u001b[39;00m object_hook \u001b[38;5;129;01mis\u001b[39;00m \u001b[38;5;28;01mNone\u001b[39;00m \u001b[38;5;129;01mand\u001b[39;00m\n\u001b[0;32m    344\u001b[0m         parse_int \u001b[38;5;129;01mis\u001b[39;00m \u001b[38;5;28;01mNone\u001b[39;00m \u001b[38;5;129;01mand\u001b[39;00m parse_float \u001b[38;5;129;01mis\u001b[39;00m \u001b[38;5;28;01mNone\u001b[39;00m \u001b[38;5;129;01mand\u001b[39;00m\n\u001b[0;32m    345\u001b[0m         parse_constant \u001b[38;5;129;01mis\u001b[39;00m \u001b[38;5;28;01mNone\u001b[39;00m \u001b[38;5;129;01mand\u001b[39;00m object_pairs_hook \u001b[38;5;129;01mis\u001b[39;00m \u001b[38;5;28;01mNone\u001b[39;00m \u001b[38;5;129;01mand\u001b[39;00m \u001b[38;5;129;01mnot\u001b[39;00m kw):\n\u001b[1;32m--> 346\u001b[0m     \u001b[38;5;28;01mreturn\u001b[39;00m \u001b[43m_default_decoder\u001b[49m\u001b[38;5;241;43m.\u001b[39;49m\u001b[43mdecode\u001b[49m\u001b[43m(\u001b[49m\u001b[43ms\u001b[49m\u001b[43m)\u001b[49m\n\u001b[0;32m    347\u001b[0m \u001b[38;5;28;01mif\u001b[39;00m \u001b[38;5;28mcls\u001b[39m \u001b[38;5;129;01mis\u001b[39;00m \u001b[38;5;28;01mNone\u001b[39;00m:\n",
      "File \u001b[1;32m~\\AppData\\Local\\Programs\\Python\\Python310\\lib\\json\\decoder.py:337\u001b[0m, in \u001b[0;36mJSONDecoder.decode\u001b[1;34m(self, s, _w)\u001b[0m\n\u001b[0;32m    333\u001b[0m \u001b[38;5;250m\u001b[39m\u001b[38;5;124;03m\"\"\"Return the Python representation of ``s`` (a ``str`` instance\u001b[39;00m\n\u001b[0;32m    334\u001b[0m \u001b[38;5;124;03mcontaining a JSON document).\u001b[39;00m\n\u001b[0;32m    335\u001b[0m \n\u001b[0;32m    336\u001b[0m \u001b[38;5;124;03m\"\"\"\u001b[39;00m\n\u001b[1;32m--> 337\u001b[0m obj, end \u001b[38;5;241m=\u001b[39m \u001b[38;5;28;43mself\u001b[39;49m\u001b[38;5;241;43m.\u001b[39;49m\u001b[43mraw_decode\u001b[49m\u001b[43m(\u001b[49m\u001b[43ms\u001b[49m\u001b[43m,\u001b[49m\u001b[43m \u001b[49m\u001b[43midx\u001b[49m\u001b[38;5;241;43m=\u001b[39;49m\u001b[43m_w\u001b[49m\u001b[43m(\u001b[49m\u001b[43ms\u001b[49m\u001b[43m,\u001b[49m\u001b[43m \u001b[49m\u001b[38;5;241;43m0\u001b[39;49m\u001b[43m)\u001b[49m\u001b[38;5;241;43m.\u001b[39;49m\u001b[43mend\u001b[49m\u001b[43m(\u001b[49m\u001b[43m)\u001b[49m\u001b[43m)\u001b[49m\n\u001b[0;32m    338\u001b[0m end \u001b[38;5;241m=\u001b[39m _w(s, end)\u001b[38;5;241m.\u001b[39mend()\n",
      "File \u001b[1;32m~\\AppData\\Local\\Programs\\Python\\Python310\\lib\\json\\decoder.py:355\u001b[0m, in \u001b[0;36mJSONDecoder.raw_decode\u001b[1;34m(self, s, idx)\u001b[0m\n\u001b[0;32m    354\u001b[0m \u001b[38;5;28;01mexcept\u001b[39;00m \u001b[38;5;167;01mStopIteration\u001b[39;00m \u001b[38;5;28;01mas\u001b[39;00m err:\n\u001b[1;32m--> 355\u001b[0m     \u001b[38;5;28;01mraise\u001b[39;00m JSONDecodeError(\u001b[38;5;124m\"\u001b[39m\u001b[38;5;124mExpecting value\u001b[39m\u001b[38;5;124m\"\u001b[39m, s, err\u001b[38;5;241m.\u001b[39mvalue) \u001b[38;5;28;01mfrom\u001b[39;00m \u001b[38;5;28;01mNone\u001b[39;00m\n\u001b[0;32m    356\u001b[0m \u001b[38;5;28;01mreturn\u001b[39;00m obj, end\n",
      "\u001b[1;31mJSONDecodeError\u001b[0m: Expecting value: line 1 column 1 (char 0)",
      "\nDuring handling of the above exception, another exception occurred:\n",
      "\u001b[1;31mJSONDecodeError\u001b[0m                           Traceback (most recent call last)",
      "Cell \u001b[1;32mIn[29], line 1\u001b[0m\n\u001b[1;32m----> 1\u001b[0m data \u001b[38;5;241m=\u001b[39m \u001b[43mresponse\u001b[49m\u001b[38;5;241;43m.\u001b[39;49m\u001b[43mjson\u001b[49m\u001b[43m(\u001b[49m\u001b[43m)\u001b[49m\n",
      "File \u001b[1;32mc:\\Users\\FABRICIO\\Desktop\\wb-despliegue azure\\venv\\lib\\site-packages\\requests\\models.py:978\u001b[0m, in \u001b[0;36mResponse.json\u001b[1;34m(self, **kwargs)\u001b[0m\n\u001b[0;32m    974\u001b[0m     \u001b[38;5;28;01mreturn\u001b[39;00m complexjson\u001b[38;5;241m.\u001b[39mloads(\u001b[38;5;28mself\u001b[39m\u001b[38;5;241m.\u001b[39mtext, \u001b[38;5;241m*\u001b[39m\u001b[38;5;241m*\u001b[39mkwargs)\n\u001b[0;32m    975\u001b[0m \u001b[38;5;28;01mexcept\u001b[39;00m JSONDecodeError \u001b[38;5;28;01mas\u001b[39;00m e:\n\u001b[0;32m    976\u001b[0m     \u001b[38;5;66;03m# Catch JSON-related errors and raise as requests.JSONDecodeError\u001b[39;00m\n\u001b[0;32m    977\u001b[0m     \u001b[38;5;66;03m# This aliases json.JSONDecodeError and simplejson.JSONDecodeError\u001b[39;00m\n\u001b[1;32m--> 978\u001b[0m     \u001b[38;5;28;01mraise\u001b[39;00m RequestsJSONDecodeError(e\u001b[38;5;241m.\u001b[39mmsg, e\u001b[38;5;241m.\u001b[39mdoc, e\u001b[38;5;241m.\u001b[39mpos)\n",
      "\u001b[1;31mJSONDecodeError\u001b[0m: Expecting value: line 1 column 1 (char 0)"
     ]
    }
   ],
   "source": [
    "data = response.json()\n"
   ]
  },
  {
   "cell_type": "code",
   "execution_count": null,
   "metadata": {},
   "outputs": [
    {
     "data": {
      "text/html": [
       "<div>\n",
       "<style scoped>\n",
       "    .dataframe tbody tr th:only-of-type {\n",
       "        vertical-align: middle;\n",
       "    }\n",
       "\n",
       "    .dataframe tbody tr th {\n",
       "        vertical-align: top;\n",
       "    }\n",
       "\n",
       "    .dataframe thead th {\n",
       "        text-align: right;\n",
       "    }\n",
       "</style>\n",
       "<table border=\"1\" class=\"dataframe\">\n",
       "  <thead>\n",
       "    <tr style=\"text-align: right;\">\n",
       "      <th></th>\n",
       "      <th>Bathrooms</th>\n",
       "      <th>Bedrooms</th>\n",
       "      <th>CountryName</th>\n",
       "      <th>Description</th>\n",
       "      <th>Environments</th>\n",
       "      <th>Latitude</th>\n",
       "      <th>Longitude</th>\n",
       "      <th>Price</th>\n",
       "      <th>Seniority</th>\n",
       "      <th>StateName</th>\n",
       "      <th>Title</th>\n",
       "      <th>img</th>\n",
       "    </tr>\n",
       "  </thead>\n",
       "  <tbody>\n",
       "    <tr>\n",
       "      <th>0</th>\n",
       "      <td>2</td>\n",
       "      <td>3</td>\n",
       "      <td>Argentina</td>\n",
       "      <td>Casa en Barrio Privado Camino Real, cuenta con...</td>\n",
       "      <td>4</td>\n",
       "      <td>-34,48684</td>\n",
       "      <td>-58,58234</td>\n",
       "      <td>USD 2.300</td>\n",
       "      <td>27</td>\n",
       "      <td>Buenos Aires</td>\n",
       "      <td>Av. Camino Real Morón San Fernando  1500</td>\n",
       "      <td>[https://static1.sosiva451.com/08910661/ea4bac...</td>\n",
       "    </tr>\n",
       "    <tr>\n",
       "      <th>1</th>\n",
       "      <td>2</td>\n",
       "      <td>3</td>\n",
       "      <td>Argentina</td>\n",
       "      <td>Alquilo amplio Duplex en Florencio varela comb...</td>\n",
       "      <td>4</td>\n",
       "      <td>-34,79154</td>\n",
       "      <td>-58,27525</td>\n",
       "      <td>$ 490.000</td>\n",
       "      <td>10</td>\n",
       "      <td>Buenos Aires</td>\n",
       "      <td>Combate De San Lorenzo 1700</td>\n",
       "      <td>[https://static1.sosiva451.com/28339561/8cca67...</td>\n",
       "    </tr>\n",
       "    <tr>\n",
       "      <th>2</th>\n",
       "      <td>2</td>\n",
       "      <td>4</td>\n",
       "      <td>Argentina</td>\n",
       "      <td>DUEÑO ALQUILA\\r\\n\\n •SIN EXPENSAS\\r\\n •SIN GAS...</td>\n",
       "      <td>5</td>\n",
       "      <td>0.0</td>\n",
       "      <td>0.0</td>\n",
       "      <td>USD 1.100</td>\n",
       "      <td>15</td>\n",
       "      <td>Buenos Aires</td>\n",
       "      <td>casa en lujan con pileta alquiler anual</td>\n",
       "      <td>[https://static1.sosiva451.com/09149461/6abd53...</td>\n",
       "    </tr>\n",
       "    <tr>\n",
       "      <th>3</th>\n",
       "      <td>2</td>\n",
       "      <td>4</td>\n",
       "      <td>Argentina</td>\n",
       "      <td>Imponente casa de estilo en la esquina de Alve...</td>\n",
       "      <td>5</td>\n",
       "      <td>-32,94819</td>\n",
       "      <td>-60,66076</td>\n",
       "      <td>$ 2.300.000</td>\n",
       "      <td>90</td>\n",
       "      <td>Santa Fe</td>\n",
       "      <td>Mendoza 2300</td>\n",
       "      <td>[https://static1.sosiva451.com/22799461/e73d3f...</td>\n",
       "    </tr>\n",
       "    <tr>\n",
       "      <th>4</th>\n",
       "      <td>5</td>\n",
       "      <td>5</td>\n",
       "      <td>Argentina</td>\n",
       "      <td>Exclusiva Casa en Alquiler en Puertos del Lago...</td>\n",
       "      <td>7</td>\n",
       "      <td>-34,318497</td>\n",
       "      <td>-58,742558</td>\n",
       "      <td>USD 7.500</td>\n",
       "      <td>0</td>\n",
       "      <td>Buenos Aires</td>\n",
       "      <td>Puertos del Lago Barrio Marinas Escobar Alquiler</td>\n",
       "      <td>[https://static1.sosiva451.com/48236461/e64ab1...</td>\n",
       "    </tr>\n",
       "    <tr>\n",
       "      <th>...</th>\n",
       "      <td>...</td>\n",
       "      <td>...</td>\n",
       "      <td>...</td>\n",
       "      <td>...</td>\n",
       "      <td>...</td>\n",
       "      <td>...</td>\n",
       "      <td>...</td>\n",
       "      <td>...</td>\n",
       "      <td>...</td>\n",
       "      <td>...</td>\n",
       "      <td>...</td>\n",
       "      <td>...</td>\n",
       "    </tr>\n",
       "    <tr>\n",
       "      <th>145</th>\n",
       "      <td>2</td>\n",
       "      <td>3</td>\n",
       "      <td>Argentina</td>\n",
       "      <td>[COUNTRY-927]\\n\\n Excelente oportunidad  \\n Al...</td>\n",
       "      <td>4</td>\n",
       "      <td>-34,34615</td>\n",
       "      <td>-58,90201</td>\n",
       "      <td>USD 900</td>\n",
       "      <td>2</td>\n",
       "      <td>Buenos Aires</td>\n",
       "      <td>San Sebastián (área 13)</td>\n",
       "      <td>[https://static1.sosiva451.com/10538561/3cef0a...</td>\n",
       "    </tr>\n",
       "    <tr>\n",
       "      <th>146</th>\n",
       "      <td>None</td>\n",
       "      <td>2</td>\n",
       "      <td>Argentina</td>\n",
       "      <td>TIPO CASA en Bulnes entre Bme Mitre y Rivadavi...</td>\n",
       "      <td>3</td>\n",
       "      <td>-34,609825</td>\n",
       "      <td>-58,418743</td>\n",
       "      <td>$ 800.000</td>\n",
       "      <td>0</td>\n",
       "      <td>Capital Federal</td>\n",
       "      <td>Bulnes 100</td>\n",
       "      <td>[https://static1.sosiva451.com/3148618/a52eaa3...</td>\n",
       "    </tr>\n",
       "    <tr>\n",
       "      <th>147</th>\n",
       "      <td>2</td>\n",
       "      <td>5</td>\n",
       "      <td>Argentina</td>\n",
       "      <td>Salaya Romera propiedades OFRECE :  un muy bue...</td>\n",
       "      <td>6</td>\n",
       "      <td>-34,598396</td>\n",
       "      <td>-58,406845</td>\n",
       "      <td>USD 5.000</td>\n",
       "      <td>90</td>\n",
       "      <td>Capital Federal</td>\n",
       "      <td>Jean Jaures al 900</td>\n",
       "      <td>[https://static1.sosiva451.com/50130521/ff21b9...</td>\n",
       "    </tr>\n",
       "    <tr>\n",
       "      <th>148</th>\n",
       "      <td>5</td>\n",
       "      <td>4</td>\n",
       "      <td>Argentina</td>\n",
       "      <td>Imponente casa en la Horqueta. \\n Hermoso jard...</td>\n",
       "      <td>5</td>\n",
       "      <td>-34,48789</td>\n",
       "      <td>-58,55991</td>\n",
       "      <td>USD 4.000</td>\n",
       "      <td>20</td>\n",
       "      <td>Buenos Aires</td>\n",
       "      <td>Blanco Encalada 800</td>\n",
       "      <td>[https://static1.sosiva451.com/81514141/17d741...</td>\n",
       "    </tr>\n",
       "    <tr>\n",
       "      <th>149</th>\n",
       "      <td>3</td>\n",
       "      <td>4</td>\n",
       "      <td>Argentina</td>\n",
       "      <td>HERMOSA CASA EN ALQUILER PARA DISFRUTAR DEL VE...</td>\n",
       "      <td>5</td>\n",
       "      <td>-34,3432</td>\n",
       "      <td>-58,78994</td>\n",
       "      <td>USD 1.500</td>\n",
       "      <td>0</td>\n",
       "      <td>Buenos Aires</td>\n",
       "      <td>Ruta 25 100</td>\n",
       "      <td>[https://static1.sosiva451.com/52125641/d18471...</td>\n",
       "    </tr>\n",
       "  </tbody>\n",
       "</table>\n",
       "<p>150 rows × 12 columns</p>\n",
       "</div>"
      ],
      "text/plain": [
       "    Bathrooms Bedrooms CountryName  \\\n",
       "0           2        3   Argentina   \n",
       "1           2        3   Argentina   \n",
       "2           2        4   Argentina   \n",
       "3           2        4   Argentina   \n",
       "4           5        5   Argentina   \n",
       "..        ...      ...         ...   \n",
       "145         2        3   Argentina   \n",
       "146      None        2   Argentina   \n",
       "147         2        5   Argentina   \n",
       "148         5        4   Argentina   \n",
       "149         3        4   Argentina   \n",
       "\n",
       "                                           Description Environments  \\\n",
       "0    Casa en Barrio Privado Camino Real, cuenta con...            4   \n",
       "1    Alquilo amplio Duplex en Florencio varela comb...            4   \n",
       "2    DUEÑO ALQUILA\\r\\n\\n •SIN EXPENSAS\\r\\n •SIN GAS...            5   \n",
       "3    Imponente casa de estilo en la esquina de Alve...            5   \n",
       "4    Exclusiva Casa en Alquiler en Puertos del Lago...            7   \n",
       "..                                                 ...          ...   \n",
       "145  [COUNTRY-927]\\n\\n Excelente oportunidad  \\n Al...            4   \n",
       "146  TIPO CASA en Bulnes entre Bme Mitre y Rivadavi...            3   \n",
       "147  Salaya Romera propiedades OFRECE :  un muy bue...            6   \n",
       "148  Imponente casa en la Horqueta. \\n Hermoso jard...            5   \n",
       "149  HERMOSA CASA EN ALQUILER PARA DISFRUTAR DEL VE...            5   \n",
       "\n",
       "       Latitude   Longitude        Price Seniority        StateName  \\\n",
       "0     -34,48684   -58,58234    USD 2.300        27     Buenos Aires   \n",
       "1     -34,79154   -58,27525    $ 490.000        10     Buenos Aires   \n",
       "2           0.0         0.0    USD 1.100        15     Buenos Aires   \n",
       "3     -32,94819   -60,66076  $ 2.300.000        90         Santa Fe   \n",
       "4    -34,318497  -58,742558    USD 7.500         0     Buenos Aires   \n",
       "..          ...         ...          ...       ...              ...   \n",
       "145   -34,34615   -58,90201      USD 900         2     Buenos Aires   \n",
       "146  -34,609825  -58,418743    $ 800.000         0  Capital Federal   \n",
       "147  -34,598396  -58,406845    USD 5.000        90  Capital Federal   \n",
       "148   -34,48789   -58,55991    USD 4.000        20     Buenos Aires   \n",
       "149    -34,3432   -58,78994    USD 1.500         0     Buenos Aires   \n",
       "\n",
       "                                                Title  \\\n",
       "0            Av. Camino Real Morón San Fernando  1500   \n",
       "1                         Combate De San Lorenzo 1700   \n",
       "2             casa en lujan con pileta alquiler anual   \n",
       "3                                        Mendoza 2300   \n",
       "4    Puertos del Lago Barrio Marinas Escobar Alquiler   \n",
       "..                                                ...   \n",
       "145                           San Sebastián (área 13)   \n",
       "146                                        Bulnes 100   \n",
       "147                                Jean Jaures al 900   \n",
       "148                               Blanco Encalada 800   \n",
       "149                                       Ruta 25 100   \n",
       "\n",
       "                                                   img  \n",
       "0    [https://static1.sosiva451.com/08910661/ea4bac...  \n",
       "1    [https://static1.sosiva451.com/28339561/8cca67...  \n",
       "2    [https://static1.sosiva451.com/09149461/6abd53...  \n",
       "3    [https://static1.sosiva451.com/22799461/e73d3f...  \n",
       "4    [https://static1.sosiva451.com/48236461/e64ab1...  \n",
       "..                                                 ...  \n",
       "145  [https://static1.sosiva451.com/10538561/3cef0a...  \n",
       "146  [https://static1.sosiva451.com/3148618/a52eaa3...  \n",
       "147  [https://static1.sosiva451.com/50130521/ff21b9...  \n",
       "148  [https://static1.sosiva451.com/81514141/17d741...  \n",
       "149  [https://static1.sosiva451.com/52125641/d18471...  \n",
       "\n",
       "[150 rows x 12 columns]"
      ]
     },
     "execution_count": 27,
     "metadata": {},
     "output_type": "execute_result"
    }
   ],
   "source": [
    "df = pd.DataFrame(data)\n",
    "df"
   ]
  },
  {
   "cell_type": "markdown",
   "metadata": {},
   "source": [
    "## 2. Transformación de datos"
   ]
  },
  {
   "cell_type": "markdown",
   "metadata": {},
   "source": [
    "### 2.1 Tabla de datos de Propietarios"
   ]
  },
  {
   "cell_type": "markdown",
   "metadata": {},
   "source": [
    "Copia del df original"
   ]
  },
  {
   "cell_type": "code",
   "execution_count": 121,
   "metadata": {},
   "outputs": [],
   "source": [
    "df_properties = df.copy()"
   ]
  },
  {
   "cell_type": "markdown",
   "metadata": {},
   "source": [
    "Función para convertir la columna Price en moneda de pesos argentinos"
   ]
  },
  {
   "cell_type": "code",
   "execution_count": 122,
   "metadata": {},
   "outputs": [],
   "source": [
    "def convert_to_ars(price):\n",
    "    exchange_rate = 1011.61 \n",
    "    price = str(price)\n",
    "    if 'USD' in price:\n",
    "        price_numeric = float(price.replace('USD', '').replace('.', '').replace(',', '.').strip())\n",
    "        return price_numeric * exchange_rate\n",
    "    elif '$' in price:\n",
    "        price_numeric = float(price.replace('$', '').replace('.', '').replace(',', '.').strip())\n",
    "        return price_numeric\n",
    "    else:\n",
    "        return None"
   ]
  },
  {
   "cell_type": "code",
   "execution_count": 123,
   "metadata": {},
   "outputs": [],
   "source": [
    "df_properties['Price'] = df_properties['Price'].apply(convert_to_ars)"
   ]
  },
  {
   "cell_type": "markdown",
   "metadata": {},
   "source": [
    "Arreglo de string de latitud y longitud"
   ]
  },
  {
   "cell_type": "code",
   "execution_count": 124,
   "metadata": {},
   "outputs": [],
   "source": [
    "# Reemplazar comas por puntos solo en las columnas Latitude y Longitude\n",
    "df_properties['Latitude'] = df_properties['Latitude'].apply(lambda x: str(x).replace(',', '.') if isinstance(x, str) else str(x))\n",
    "df_properties['Longitude'] = df_properties['Longitude'].apply(lambda x: str(x).replace(',', '.') if isinstance(x, str) else str(x))\n",
    "\n",
    "# Convertir las columnas a float\n",
    "df_properties['Latitude'] = pd.to_numeric(df_properties['Latitude'], errors='coerce')\n",
    "df_properties['Longitude'] = pd.to_numeric(df_properties['Longitude'], errors='coerce')\n"
   ]
  },
  {
   "cell_type": "markdown",
   "metadata": {},
   "source": [
    "Eliminando filas que contienen valores en blanco (' ')"
   ]
  },
  {
   "cell_type": "code",
   "execution_count": 125,
   "metadata": {},
   "outputs": [],
   "source": [
    "string_columns = df_properties.select_dtypes(include=['object', 'string'])\n",
    "rows_with_spaces = string_columns.apply(lambda col: col.str.strip() == '', axis=0).any(axis=1)\n",
    "df_properties = df_properties[~rows_with_spaces].reset_index(drop=True)"
   ]
  },
  {
   "cell_type": "code",
   "execution_count": 126,
   "metadata": {},
   "outputs": [
    {
     "data": {
      "text/plain": [
       "Bathrooms       28\n",
       "Bedrooms        23\n",
       "CountryName      0\n",
       "Description      0\n",
       "Environments    34\n",
       "Latitude         0\n",
       "Longitude        0\n",
       "Price           12\n",
       "Seniority        0\n",
       "StateName        0\n",
       "Title            0\n",
       "img              0\n",
       "dtype: int64"
      ]
     },
     "execution_count": 126,
     "metadata": {},
     "output_type": "execute_result"
    }
   ],
   "source": [
    "df_properties.isnull().sum()"
   ]
  },
  {
   "cell_type": "markdown",
   "metadata": {},
   "source": [
    "Eliminando filas con valores nulos"
   ]
  },
  {
   "cell_type": "code",
   "execution_count": 127,
   "metadata": {},
   "outputs": [],
   "source": [
    "df_properties = df_properties.dropna().reset_index(drop=True)"
   ]
  },
  {
   "cell_type": "code",
   "execution_count": 128,
   "metadata": {},
   "outputs": [
    {
     "data": {
      "text/plain": [
       "Bathrooms       0\n",
       "Bedrooms        0\n",
       "CountryName     0\n",
       "Description     0\n",
       "Environments    0\n",
       "Latitude        0\n",
       "Longitude       0\n",
       "Price           0\n",
       "Seniority       0\n",
       "StateName       0\n",
       "Title           0\n",
       "img             0\n",
       "dtype: int64"
      ]
     },
     "execution_count": 128,
     "metadata": {},
     "output_type": "execute_result"
    }
   ],
   "source": [
    "df_properties.isnull().sum()"
   ]
  },
  {
   "cell_type": "markdown",
   "metadata": {},
   "source": [
    "Función para obtener dirección en base a latitud y longitud"
   ]
  },
  {
   "cell_type": "code",
   "execution_count": 129,
   "metadata": {},
   "outputs": [],
   "source": [
    "geolocator = Nominatim(user_agent=\"geoapi_exercises\")\n",
    "\n",
    "# Función para obtener la dirección\n",
    "def obtener_direccion(lat, lon):\n",
    "    if lat == 0.0 and lon == 0.0:\n",
    "        return None \n",
    "    try:\n",
    "        location = geolocator.reverse((lat, lon))\n",
    "        return location.address if location else None\n",
    "    except Exception as e:\n",
    "        return f\"Error: {e}\""
   ]
  },
  {
   "cell_type": "code",
   "execution_count": 130,
   "metadata": {},
   "outputs": [],
   "source": [
    "df_properties['Address'] = df_properties.apply(lambda x: obtener_direccion(x['Latitude'], x['Longitude']), axis=1)"
   ]
  },
  {
   "cell_type": "code",
   "execution_count": 131,
   "metadata": {},
   "outputs": [],
   "source": [
    "df_properties.dropna(inplace=True) \n",
    "df_properties.reset_index(drop=True, inplace=True)"
   ]
  },
  {
   "cell_type": "markdown",
   "metadata": {},
   "source": [
    "Obtener numero de calle y/o direccion"
   ]
  },
  {
   "cell_type": "code",
   "execution_count": 132,
   "metadata": {},
   "outputs": [],
   "source": [
    "df_properties['Address'] = df_properties['Address'].apply(lambda x: ', '.join(x.split(', ')[:3]))\n",
    "df_properties = df_properties.drop(columns=['Latitude', 'Longitude']) # elimino las columnas latitud y longitud"
   ]
  },
  {
   "cell_type": "code",
   "execution_count": 133,
   "metadata": {},
   "outputs": [
    {
     "data": {
      "text/plain": [
       "Bathrooms       0\n",
       "Bedrooms        0\n",
       "CountryName     0\n",
       "Description     0\n",
       "Environments    0\n",
       "Price           0\n",
       "Seniority       0\n",
       "StateName       0\n",
       "Title           0\n",
       "img             0\n",
       "Address         0\n",
       "dtype: int64"
      ]
     },
     "execution_count": 133,
     "metadata": {},
     "output_type": "execute_result"
    }
   ],
   "source": [
    "df_properties.isnull().sum()"
   ]
  },
  {
   "cell_type": "code",
   "execution_count": 134,
   "metadata": {},
   "outputs": [],
   "source": [
    "df_properties.dropna(inplace=True) \n",
    "df_properties.reset_index(drop=True, inplace=True)"
   ]
  },
  {
   "cell_type": "markdown",
   "metadata": {},
   "source": [
    "Eliminando propiedades que no tienen imagen"
   ]
  },
  {
   "cell_type": "code",
   "execution_count": 135,
   "metadata": {},
   "outputs": [],
   "source": [
    "df_properties['img'] = df_properties['img'].astype(str)\n",
    "df_properties.drop(df_properties[df_properties['img'] == '[]'].index, inplace=True)"
   ]
  },
  {
   "cell_type": "code",
   "execution_count": 136,
   "metadata": {},
   "outputs": [],
   "source": [
    "df_properties.reset_index(drop=True, inplace=True)"
   ]
  },
  {
   "cell_type": "markdown",
   "metadata": {},
   "source": [
    "Eliminando titulo sin sentido "
   ]
  },
  {
   "cell_type": "code",
   "execution_count": 137,
   "metadata": {},
   "outputs": [],
   "source": [
    "df_properties.drop(df_properties[df_properties['Title'].str.contains('U\\$', na=False)].index, inplace=True)"
   ]
  },
  {
   "cell_type": "markdown",
   "metadata": {},
   "source": [
    "Seleccionando 200 registros aleatoriamente"
   ]
  },
  {
   "cell_type": "code",
   "execution_count": 138,
   "metadata": {},
   "outputs": [],
   "source": [
    "df_prop = df_properties.sample(n=5, random_state=5).reset_index(drop=True)"
   ]
  },
  {
   "cell_type": "markdown",
   "metadata": {},
   "source": [
    "Agregando columnas faltantes"
   ]
  },
  {
   "cell_type": "code",
   "execution_count": 139,
   "metadata": {},
   "outputs": [],
   "source": [
    "columnas = [\n",
    "    \"Water\", \"Gas\", \"Surveillance\", \"Electricity\", \"Internet\", \n",
    "    \"Pool\", \"Garage\", \"Pets\", \"Grill\", \"Elevator\", \"Terrace\",\n",
    "    \"IsHistoric\", \"IsWorking\", \"HasWarranty\", \"RangeSalary\"\n",
    "]\n",
    "\n",
    "# Agregar columnas con valores específicos\n",
    "for column in columnas:\n",
    "    if column in [\"Water\", \"Gas\", \"Electricity\"]:\n",
    "        df_prop[column] = True  # Estas columnas son siempre True\n",
    "    elif column in [\"Surveillance\", \"Pets\", \"Pool\"]:\n",
    "        df_prop[column] = np.random.choice([True, False], size=len(df_prop))\n",
    "    elif column == \"RangeSalary\":\n",
    "        # Genero los salarios con distribución sesgada a la izquierda\n",
    "        salary_range = np.random.triangular(left=400000, mode=1200000, right=3000000, size=len(df_prop))\n",
    "        salary_range = salary_range.astype(int)  # Asegurarnos de que sean números enteros\n",
    "        df_prop[column] = salary_range\n",
    "    else:\n",
    "        df_prop[column] = np.random.choice([True, False], size=len(df_prop), p=[0.8, 0.2]) # sesgo para que haya mas true que false"
   ]
  },
  {
   "cell_type": "code",
   "execution_count": 140,
   "metadata": {},
   "outputs": [],
   "source": [
    "df_prop.loc[:, 'CreatedAt'] = datetime.now(pytz.UTC)\n",
    "df_prop['UpdatedAt'] = None\n",
    "df_prop['IsDeleted'] = False\n"
   ]
  },
  {
   "cell_type": "markdown",
   "metadata": {},
   "source": [
    "Ordenando columnas"
   ]
  },
  {
   "cell_type": "code",
   "execution_count": 141,
   "metadata": {},
   "outputs": [],
   "source": [
    "orden_columns = [\n",
    "    \"img\",\"IsWorking\", \"HasWarranty\", \"RangeSalary\", \"CountryName\", \"StateName\", \"Title\", \"Address\", \"Price\", \"Environments\", \n",
    "    \"Bathrooms\", \"Bedrooms\", \"Seniority\", \"Water\", \"Gas\", \"Surveillance\", \"Electricity\", \"Internet\", \"Pool\", \n",
    "    \"Garage\", \"Pets\", \"Grill\", \"Elevator\", \"Terrace\", \"IsHistoric\", \"Description\", \"CreatedAt\", \"UpdatedAt\",\n",
    "    \"IsDeleted\"\n",
    "]\n",
    "\n",
    "df_prop = df_prop[orden_columns]"
   ]
  },
  {
   "cell_type": "code",
   "execution_count": 142,
   "metadata": {},
   "outputs": [
    {
     "data": {
      "text/html": [
       "<div>\n",
       "<style scoped>\n",
       "    .dataframe tbody tr th:only-of-type {\n",
       "        vertical-align: middle;\n",
       "    }\n",
       "\n",
       "    .dataframe tbody tr th {\n",
       "        vertical-align: top;\n",
       "    }\n",
       "\n",
       "    .dataframe thead th {\n",
       "        text-align: right;\n",
       "    }\n",
       "</style>\n",
       "<table border=\"1\" class=\"dataframe\">\n",
       "  <thead>\n",
       "    <tr style=\"text-align: right;\">\n",
       "      <th></th>\n",
       "      <th>img</th>\n",
       "      <th>IsWorking</th>\n",
       "      <th>HasWarranty</th>\n",
       "      <th>RangeSalary</th>\n",
       "      <th>CountryName</th>\n",
       "      <th>StateName</th>\n",
       "      <th>Title</th>\n",
       "      <th>Address</th>\n",
       "      <th>Price</th>\n",
       "      <th>Environments</th>\n",
       "      <th>...</th>\n",
       "      <th>Garage</th>\n",
       "      <th>Pets</th>\n",
       "      <th>Grill</th>\n",
       "      <th>Elevator</th>\n",
       "      <th>Terrace</th>\n",
       "      <th>IsHistoric</th>\n",
       "      <th>Description</th>\n",
       "      <th>CreatedAt</th>\n",
       "      <th>UpdatedAt</th>\n",
       "      <th>IsDeleted</th>\n",
       "    </tr>\n",
       "  </thead>\n",
       "  <tbody>\n",
       "    <tr>\n",
       "      <th>0</th>\n",
       "      <td>['https://static1.sosiva451.com/97313351/f4278...</td>\n",
       "      <td>True</td>\n",
       "      <td>False</td>\n",
       "      <td>1483413</td>\n",
       "      <td>Argentina</td>\n",
       "      <td>Buenos Aires</td>\n",
       "      <td>Mayling, Chubut 415</td>\n",
       "      <td>Mayling, Pedro Medrano, Villa Rosa</td>\n",
       "      <td>1618576.0</td>\n",
       "      <td>4</td>\n",
       "      <td>...</td>\n",
       "      <td>True</td>\n",
       "      <td>True</td>\n",
       "      <td>False</td>\n",
       "      <td>False</td>\n",
       "      <td>True</td>\n",
       "      <td>False</td>\n",
       "      <td>Linda casa desarrollada en lote central  con j...</td>\n",
       "      <td>2024-12-03 18:11:00.757102+00:00</td>\n",
       "      <td>None</td>\n",
       "      <td>False</td>\n",
       "    </tr>\n",
       "    <tr>\n",
       "      <th>1</th>\n",
       "      <td>['https://static1.sosiva451.com/08190061/55ec7...</td>\n",
       "      <td>True</td>\n",
       "      <td>False</td>\n",
       "      <td>1375316</td>\n",
       "      <td>Argentina</td>\n",
       "      <td>Buenos Aires</td>\n",
       "      <td>Acacias</td>\n",
       "      <td>Pasaje Espigon, Puertos del Lago, El Cazador</td>\n",
       "      <td>1213932.0</td>\n",
       "      <td>4</td>\n",
       "      <td>...</td>\n",
       "      <td>True</td>\n",
       "      <td>False</td>\n",
       "      <td>False</td>\n",
       "      <td>False</td>\n",
       "      <td>True</td>\n",
       "      <td>True</td>\n",
       "      <td>Exclusiva Casa en Venta Rodeada de Naturaleza ...</td>\n",
       "      <td>2024-12-03 18:11:00.757102+00:00</td>\n",
       "      <td>None</td>\n",
       "      <td>False</td>\n",
       "    </tr>\n",
       "    <tr>\n",
       "      <th>2</th>\n",
       "      <td>['https://static1.sosiva451.com/61485361/a93cb...</td>\n",
       "      <td>True</td>\n",
       "      <td>False</td>\n",
       "      <td>1136947</td>\n",
       "      <td>Argentina</td>\n",
       "      <td>Buenos Aires</td>\n",
       "      <td>Pringles 4700</td>\n",
       "      <td>4732, Coronel Pringles, Godoy Cruz</td>\n",
       "      <td>400000.0</td>\n",
       "      <td>3</td>\n",
       "      <td>...</td>\n",
       "      <td>True</td>\n",
       "      <td>False</td>\n",
       "      <td>True</td>\n",
       "      <td>True</td>\n",
       "      <td>True</td>\n",
       "      <td>True</td>\n",
       "      <td>ALQUILER\\n\\n Casa de 3 ambientes al frente\\n\\n...</td>\n",
       "      <td>2024-12-03 18:11:00.757102+00:00</td>\n",
       "      <td>None</td>\n",
       "      <td>False</td>\n",
       "    </tr>\n",
       "    <tr>\n",
       "      <th>3</th>\n",
       "      <td>['https://static1.sosiva451.com/49944561/b4dfa...</td>\n",
       "      <td>True</td>\n",
       "      <td>True</td>\n",
       "      <td>1162191</td>\n",
       "      <td>Argentina</td>\n",
       "      <td>Buenos Aires</td>\n",
       "      <td>El Canton Norte</td>\n",
       "      <td>El Cantón, El Cazador, Partido de Escobar</td>\n",
       "      <td>1517415.0</td>\n",
       "      <td>8</td>\n",
       "      <td>...</td>\n",
       "      <td>True</td>\n",
       "      <td>True</td>\n",
       "      <td>True</td>\n",
       "      <td>True</td>\n",
       "      <td>True</td>\n",
       "      <td>False</td>\n",
       "      <td>ALQUILER DE CASA EN CANTON NORTE CON PILETA\\n\\...</td>\n",
       "      <td>2024-12-03 18:11:00.757102+00:00</td>\n",
       "      <td>None</td>\n",
       "      <td>False</td>\n",
       "    </tr>\n",
       "    <tr>\n",
       "      <th>4</th>\n",
       "      <td>['https://static1.sosiva451.com/02629561/cf4f0...</td>\n",
       "      <td>True</td>\n",
       "      <td>False</td>\n",
       "      <td>1733894</td>\n",
       "      <td>Argentina</td>\n",
       "      <td>Buenos Aires</td>\n",
       "      <td>Entre Rios 1700</td>\n",
       "      <td>1731, Entre Ríos, Martínez Oeste</td>\n",
       "      <td>1700000.0</td>\n",
       "      <td>4</td>\n",
       "      <td>...</td>\n",
       "      <td>True</td>\n",
       "      <td>True</td>\n",
       "      <td>True</td>\n",
       "      <td>True</td>\n",
       "      <td>True</td>\n",
       "      <td>True</td>\n",
       "      <td>Alquiler de Casa 4 AMBIENTES en Martínez, San ...</td>\n",
       "      <td>2024-12-03 18:11:00.757102+00:00</td>\n",
       "      <td>None</td>\n",
       "      <td>False</td>\n",
       "    </tr>\n",
       "  </tbody>\n",
       "</table>\n",
       "<p>5 rows × 29 columns</p>\n",
       "</div>"
      ],
      "text/plain": [
       "                                                 img  IsWorking  HasWarranty  \\\n",
       "0  ['https://static1.sosiva451.com/97313351/f4278...       True        False   \n",
       "1  ['https://static1.sosiva451.com/08190061/55ec7...       True        False   \n",
       "2  ['https://static1.sosiva451.com/61485361/a93cb...       True        False   \n",
       "3  ['https://static1.sosiva451.com/49944561/b4dfa...       True         True   \n",
       "4  ['https://static1.sosiva451.com/02629561/cf4f0...       True        False   \n",
       "\n",
       "   RangeSalary CountryName     StateName                Title  \\\n",
       "0      1483413   Argentina  Buenos Aires  Mayling, Chubut 415   \n",
       "1      1375316   Argentina  Buenos Aires              Acacias   \n",
       "2      1136947   Argentina  Buenos Aires        Pringles 4700   \n",
       "3      1162191   Argentina  Buenos Aires      El Canton Norte   \n",
       "4      1733894   Argentina  Buenos Aires      Entre Rios 1700   \n",
       "\n",
       "                                        Address      Price Environments  ...  \\\n",
       "0            Mayling, Pedro Medrano, Villa Rosa  1618576.0            4  ...   \n",
       "1  Pasaje Espigon, Puertos del Lago, El Cazador  1213932.0            4  ...   \n",
       "2            4732, Coronel Pringles, Godoy Cruz   400000.0            3  ...   \n",
       "3     El Cantón, El Cazador, Partido de Escobar  1517415.0            8  ...   \n",
       "4              1731, Entre Ríos, Martínez Oeste  1700000.0            4  ...   \n",
       "\n",
       "  Garage   Pets  Grill  Elevator  Terrace  IsHistoric  \\\n",
       "0   True   True  False     False     True       False   \n",
       "1   True  False  False     False     True        True   \n",
       "2   True  False   True      True     True        True   \n",
       "3   True   True   True      True     True       False   \n",
       "4   True   True   True      True     True        True   \n",
       "\n",
       "                                         Description  \\\n",
       "0  Linda casa desarrollada en lote central  con j...   \n",
       "1  Exclusiva Casa en Venta Rodeada de Naturaleza ...   \n",
       "2  ALQUILER\\n\\n Casa de 3 ambientes al frente\\n\\n...   \n",
       "3  ALQUILER DE CASA EN CANTON NORTE CON PILETA\\n\\...   \n",
       "4  Alquiler de Casa 4 AMBIENTES en Martínez, San ...   \n",
       "\n",
       "                         CreatedAt  UpdatedAt  IsDeleted  \n",
       "0 2024-12-03 18:11:00.757102+00:00       None      False  \n",
       "1 2024-12-03 18:11:00.757102+00:00       None      False  \n",
       "2 2024-12-03 18:11:00.757102+00:00       None      False  \n",
       "3 2024-12-03 18:11:00.757102+00:00       None      False  \n",
       "4 2024-12-03 18:11:00.757102+00:00       None      False  \n",
       "\n",
       "[5 rows x 29 columns]"
      ]
     },
     "execution_count": 142,
     "metadata": {},
     "output_type": "execute_result"
    }
   ],
   "source": [
    "df_prop"
   ]
  },
  {
   "cell_type": "code",
   "execution_count": 143,
   "metadata": {},
   "outputs": [],
   "source": [
    "# Guardar el DataFrame en un archivo CSV con comillas alrededor de las descripciones y codificación UTF-8-SIG\n",
    "#df_prop.to_csv('df_prop.csv', index=False, encoding='utf-8-sig', sep=';')\n",
    "\n",
    "#print(\"Archivo CSV guardado exitosamente con las descripciones correctas.\")"
   ]
  },
  {
   "cell_type": "code",
   "execution_count": null,
   "metadata": {},
   "outputs": [],
   "source": []
  },
  {
   "cell_type": "markdown",
   "metadata": {},
   "source": [
    "### 2.2 Tabla de datos de Usuarios"
   ]
  },
  {
   "cell_type": "markdown",
   "metadata": {},
   "source": [
    "Leyendo datos fictios creados por IA"
   ]
  },
  {
   "cell_type": "code",
   "execution_count": 194,
   "metadata": {},
   "outputs": [],
   "source": [
    "csv_path = 'Data_ficticia\\\\Users_Ficticios_IA.csv'\n",
    "df_users = pd.read_csv(csv_path)"
   ]
  },
  {
   "cell_type": "markdown",
   "metadata": {},
   "source": [
    "Seleccionando 400 usuarios aleatoriamente"
   ]
  },
  {
   "cell_type": "code",
   "execution_count": 195,
   "metadata": {},
   "outputs": [],
   "source": [
    "df_users = df_users.sample(n=10, random_state=5).reset_index(drop=True)"
   ]
  },
  {
   "cell_type": "markdown",
   "metadata": {},
   "source": [
    "Creando columnas faltantes"
   ]
  },
  {
   "cell_type": "code",
   "execution_count": 196,
   "metadata": {},
   "outputs": [],
   "source": [
    "df_users.insert(0, 'Id', range(1, len(df_users) + 1))\n",
    "df_users.insert(1, 'CountryName', 'Argentina')\n"
   ]
  },
  {
   "cell_type": "code",
   "execution_count": 197,
   "metadata": {},
   "outputs": [],
   "source": [
    "df_users.loc[:, 'CreatedAt'] = datetime.now(pytz.UTC)\n",
    "df_users['UpdatedAt'] = None\n",
    "df_users['IsDeleted'] = False"
   ]
  },
  {
   "cell_type": "code",
   "execution_count": 198,
   "metadata": {},
   "outputs": [
    {
     "data": {
      "text/html": [
       "<div>\n",
       "<style scoped>\n",
       "    .dataframe tbody tr th:only-of-type {\n",
       "        vertical-align: middle;\n",
       "    }\n",
       "\n",
       "    .dataframe tbody tr th {\n",
       "        vertical-align: top;\n",
       "    }\n",
       "\n",
       "    .dataframe thead th {\n",
       "        text-align: right;\n",
       "    }\n",
       "</style>\n",
       "<table border=\"1\" class=\"dataframe\">\n",
       "  <thead>\n",
       "    <tr style=\"text-align: right;\">\n",
       "      <th></th>\n",
       "      <th>Id</th>\n",
       "      <th>CountryName</th>\n",
       "      <th>Name</th>\n",
       "      <th>LastName</th>\n",
       "      <th>Dni</th>\n",
       "      <th>Phone</th>\n",
       "      <th>Address</th>\n",
       "      <th>BirthDate</th>\n",
       "      <th>Email</th>\n",
       "      <th>Password</th>\n",
       "      <th>CreatedAt</th>\n",
       "      <th>UpdatedAt</th>\n",
       "      <th>IsDeleted</th>\n",
       "    </tr>\n",
       "  </thead>\n",
       "  <tbody>\n",
       "    <tr>\n",
       "      <th>0</th>\n",
       "      <td>1</td>\n",
       "      <td>Argentina</td>\n",
       "      <td>Trinidad</td>\n",
       "      <td>Farre</td>\n",
       "      <td>92309378</td>\n",
       "      <td>+54 9 11-5516-2964</td>\n",
       "      <td>Via de Benjamín Egea 457, Resistencia, Argentina</td>\n",
       "      <td>1971-04-03</td>\n",
       "      <td>trinidad.farre@gmail.com</td>\n",
       "      <td>@Farre03</td>\n",
       "      <td>2024-12-03 18:37:14.637420+00:00</td>\n",
       "      <td>None</td>\n",
       "      <td>False</td>\n",
       "    </tr>\n",
       "    <tr>\n",
       "      <th>1</th>\n",
       "      <td>2</td>\n",
       "      <td>Argentina</td>\n",
       "      <td>Victorino</td>\n",
       "      <td>Valentin</td>\n",
       "      <td>19496248</td>\n",
       "      <td>+54 9 21-5986-6054</td>\n",
       "      <td>Callejón de Damián Maldonado 245, San Salvador...</td>\n",
       "      <td>1999-05-20</td>\n",
       "      <td>victorino.valentin@gmail.com</td>\n",
       "      <td>&lt;Valentin20</td>\n",
       "      <td>2024-12-03 18:37:14.637420+00:00</td>\n",
       "      <td>None</td>\n",
       "      <td>False</td>\n",
       "    </tr>\n",
       "    <tr>\n",
       "      <th>2</th>\n",
       "      <td>3</td>\n",
       "      <td>Argentina</td>\n",
       "      <td>Rosenda</td>\n",
       "      <td>Barreda</td>\n",
       "      <td>12697037</td>\n",
       "      <td>+54 9 21-5297-7790</td>\n",
       "      <td>Via de Patricia Yáñez 191, San Miguel de Tucum...</td>\n",
       "      <td>1980-01-20</td>\n",
       "      <td>rosenda.barreda@gmail.com</td>\n",
       "      <td>@Barreda20</td>\n",
       "      <td>2024-12-03 18:37:14.637420+00:00</td>\n",
       "      <td>None</td>\n",
       "      <td>False</td>\n",
       "    </tr>\n",
       "    <tr>\n",
       "      <th>3</th>\n",
       "      <td>4</td>\n",
       "      <td>Argentina</td>\n",
       "      <td>Panfilo</td>\n",
       "      <td>Vergara</td>\n",
       "      <td>57455334</td>\n",
       "      <td>+54 9 21-4995-5021</td>\n",
       "      <td>Avenida de Inmaculada Farré 57, Río Gallegos, ...</td>\n",
       "      <td>1952-07-29</td>\n",
       "      <td>panfilo.vergara@gmail.com</td>\n",
       "      <td>@Vergara29</td>\n",
       "      <td>2024-12-03 18:37:14.637420+00:00</td>\n",
       "      <td>None</td>\n",
       "      <td>False</td>\n",
       "    </tr>\n",
       "    <tr>\n",
       "      <th>4</th>\n",
       "      <td>5</td>\n",
       "      <td>Argentina</td>\n",
       "      <td>Lucia</td>\n",
       "      <td>Arrieta</td>\n",
       "      <td>16391990</td>\n",
       "      <td>+54 9 11-4236-3158</td>\n",
       "      <td>Callejón Clara Palomo 254, Resistencia, Argentina</td>\n",
       "      <td>1953-09-08</td>\n",
       "      <td>lucia.arrieta@gmail.com</td>\n",
       "      <td>]Arrieta08</td>\n",
       "      <td>2024-12-03 18:37:14.637420+00:00</td>\n",
       "      <td>None</td>\n",
       "      <td>False</td>\n",
       "    </tr>\n",
       "    <tr>\n",
       "      <th>5</th>\n",
       "      <td>6</td>\n",
       "      <td>Argentina</td>\n",
       "      <td>Cloe</td>\n",
       "      <td>Pinol</td>\n",
       "      <td>38504574</td>\n",
       "      <td>+54 9 23-4978-8992</td>\n",
       "      <td>Alameda de Eusebio Tovar 172, San Salvador de ...</td>\n",
       "      <td>1980-02-14</td>\n",
       "      <td>cloe.pinol@gmail.com</td>\n",
       "      <td>&gt;Pinol14</td>\n",
       "      <td>2024-12-03 18:37:14.637420+00:00</td>\n",
       "      <td>None</td>\n",
       "      <td>False</td>\n",
       "    </tr>\n",
       "    <tr>\n",
       "      <th>6</th>\n",
       "      <td>7</td>\n",
       "      <td>Argentina</td>\n",
       "      <td>Ani</td>\n",
       "      <td>Martinez</td>\n",
       "      <td>45999479</td>\n",
       "      <td>+54 9 20-5488-1454</td>\n",
       "      <td>Calle Imelda Quevedo 887, Bahía Blanca, Argentina</td>\n",
       "      <td>1984-10-06</td>\n",
       "      <td>ani.martinez@gmail.com</td>\n",
       "      <td>#Martinez06</td>\n",
       "      <td>2024-12-03 18:37:14.637420+00:00</td>\n",
       "      <td>None</td>\n",
       "      <td>False</td>\n",
       "    </tr>\n",
       "    <tr>\n",
       "      <th>7</th>\n",
       "      <td>8</td>\n",
       "      <td>Argentina</td>\n",
       "      <td>Silvia</td>\n",
       "      <td>Matas</td>\n",
       "      <td>41942604</td>\n",
       "      <td>+54 9 12-4898-4106</td>\n",
       "      <td>Paseo de Silvia Luján 439, Trelew, Argentina</td>\n",
       "      <td>1987-02-18</td>\n",
       "      <td>silvia.matas@gmail.com</td>\n",
       "      <td>.Matas18</td>\n",
       "      <td>2024-12-03 18:37:14.637420+00:00</td>\n",
       "      <td>None</td>\n",
       "      <td>False</td>\n",
       "    </tr>\n",
       "    <tr>\n",
       "      <th>8</th>\n",
       "      <td>9</td>\n",
       "      <td>Argentina</td>\n",
       "      <td>Chuy</td>\n",
       "      <td>Larranaga</td>\n",
       "      <td>39788013</td>\n",
       "      <td>+54 9 15-4249-7155</td>\n",
       "      <td>Cuesta de Andrés Palomar 835, Mendoza, Argentina</td>\n",
       "      <td>1960-07-31</td>\n",
       "      <td>chuy.larranaga@gmail.com</td>\n",
       "      <td>{Larranaga31</td>\n",
       "      <td>2024-12-03 18:37:14.637420+00:00</td>\n",
       "      <td>None</td>\n",
       "      <td>False</td>\n",
       "    </tr>\n",
       "    <tr>\n",
       "      <th>9</th>\n",
       "      <td>10</td>\n",
       "      <td>Argentina</td>\n",
       "      <td>Pacifica</td>\n",
       "      <td>Valcarcel</td>\n",
       "      <td>11747146</td>\n",
       "      <td>+54 9 12-6644-4604</td>\n",
       "      <td>Urbanización Débora Roma 930, Posadas, Argentina</td>\n",
       "      <td>1967-01-23</td>\n",
       "      <td>pacifica.valcarcel@gmail.com</td>\n",
       "      <td>?Valcarcel23</td>\n",
       "      <td>2024-12-03 18:37:14.637420+00:00</td>\n",
       "      <td>None</td>\n",
       "      <td>False</td>\n",
       "    </tr>\n",
       "  </tbody>\n",
       "</table>\n",
       "</div>"
      ],
      "text/plain": [
       "   Id CountryName       Name   LastName       Dni               Phone  \\\n",
       "0   1   Argentina   Trinidad      Farre  92309378  +54 9 11-5516-2964   \n",
       "1   2   Argentina  Victorino   Valentin  19496248  +54 9 21-5986-6054   \n",
       "2   3   Argentina    Rosenda    Barreda  12697037  +54 9 21-5297-7790   \n",
       "3   4   Argentina    Panfilo    Vergara  57455334  +54 9 21-4995-5021   \n",
       "4   5   Argentina      Lucia    Arrieta  16391990  +54 9 11-4236-3158   \n",
       "5   6   Argentina       Cloe      Pinol  38504574  +54 9 23-4978-8992   \n",
       "6   7   Argentina        Ani   Martinez  45999479  +54 9 20-5488-1454   \n",
       "7   8   Argentina     Silvia      Matas  41942604  +54 9 12-4898-4106   \n",
       "8   9   Argentina       Chuy  Larranaga  39788013  +54 9 15-4249-7155   \n",
       "9  10   Argentina   Pacifica  Valcarcel  11747146  +54 9 12-6644-4604   \n",
       "\n",
       "                                             Address   BirthDate  \\\n",
       "0   Via de Benjamín Egea 457, Resistencia, Argentina  1971-04-03   \n",
       "1  Callejón de Damián Maldonado 245, San Salvador...  1999-05-20   \n",
       "2  Via de Patricia Yáñez 191, San Miguel de Tucum...  1980-01-20   \n",
       "3  Avenida de Inmaculada Farré 57, Río Gallegos, ...  1952-07-29   \n",
       "4  Callejón Clara Palomo 254, Resistencia, Argentina  1953-09-08   \n",
       "5  Alameda de Eusebio Tovar 172, San Salvador de ...  1980-02-14   \n",
       "6  Calle Imelda Quevedo 887, Bahía Blanca, Argentina  1984-10-06   \n",
       "7       Paseo de Silvia Luján 439, Trelew, Argentina  1987-02-18   \n",
       "8   Cuesta de Andrés Palomar 835, Mendoza, Argentina  1960-07-31   \n",
       "9   Urbanización Débora Roma 930, Posadas, Argentina  1967-01-23   \n",
       "\n",
       "                          Email      Password  \\\n",
       "0      trinidad.farre@gmail.com      @Farre03   \n",
       "1  victorino.valentin@gmail.com   <Valentin20   \n",
       "2     rosenda.barreda@gmail.com    @Barreda20   \n",
       "3     panfilo.vergara@gmail.com    @Vergara29   \n",
       "4       lucia.arrieta@gmail.com    ]Arrieta08   \n",
       "5          cloe.pinol@gmail.com      >Pinol14   \n",
       "6        ani.martinez@gmail.com   #Martinez06   \n",
       "7        silvia.matas@gmail.com      .Matas18   \n",
       "8      chuy.larranaga@gmail.com  {Larranaga31   \n",
       "9  pacifica.valcarcel@gmail.com  ?Valcarcel23   \n",
       "\n",
       "                         CreatedAt UpdatedAt  IsDeleted  \n",
       "0 2024-12-03 18:37:14.637420+00:00      None      False  \n",
       "1 2024-12-03 18:37:14.637420+00:00      None      False  \n",
       "2 2024-12-03 18:37:14.637420+00:00      None      False  \n",
       "3 2024-12-03 18:37:14.637420+00:00      None      False  \n",
       "4 2024-12-03 18:37:14.637420+00:00      None      False  \n",
       "5 2024-12-03 18:37:14.637420+00:00      None      False  \n",
       "6 2024-12-03 18:37:14.637420+00:00      None      False  \n",
       "7 2024-12-03 18:37:14.637420+00:00      None      False  \n",
       "8 2024-12-03 18:37:14.637420+00:00      None      False  \n",
       "9 2024-12-03 18:37:14.637420+00:00      None      False  "
      ]
     },
     "execution_count": 198,
     "metadata": {},
     "output_type": "execute_result"
    }
   ],
   "source": [
    "df_users"
   ]
  },
  {
   "cell_type": "code",
   "execution_count": null,
   "metadata": {},
   "outputs": [],
   "source": []
  },
  {
   "cell_type": "markdown",
   "metadata": {},
   "source": []
  },
  {
   "cell_type": "markdown",
   "metadata": {},
   "source": [
    "### 2.3 Tabla de datos de UsersTenantsInfo"
   ]
  },
  {
   "cell_type": "code",
   "execution_count": null,
   "metadata": {},
   "outputs": [],
   "source": []
  },
  {
   "cell_type": "code",
   "execution_count": null,
   "metadata": {},
   "outputs": [],
   "source": []
  }
 ],
 "metadata": {
  "colab": {
   "provenance": []
  },
  "kernelspec": {
   "display_name": "venv",
   "language": "python",
   "name": "python3"
  },
  "language_info": {
   "codemirror_mode": {
    "name": "ipython",
    "version": 3
   },
   "file_extension": ".py",
   "mimetype": "text/x-python",
   "name": "python",
   "nbconvert_exporter": "python",
   "pygments_lexer": "ipython3",
   "version": "3.10.5"
  }
 },
 "nbformat": 4,
 "nbformat_minor": 0
}
